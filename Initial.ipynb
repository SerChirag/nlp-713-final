{
 "cells": [
  {
   "cell_type": "code",
   "execution_count": 68,
   "id": "76b3136c",
   "metadata": {},
   "outputs": [],
   "source": [
    "from transformers import AutoModelForSeq2SeqLM, AutoTokenizer \n",
    "model_name = \"Callidior/bert2bert-base-arxiv-titlegen\" \n",
    "import pandas as pd\n",
    "from tqdm import tqdm\n",
    "import torch\n"
   ]
  },
  {
   "cell_type": "code",
   "execution_count": 83,
   "id": "f4935473",
   "metadata": {},
   "outputs": [],
   "source": [
    "from rouge_score import rouge_scorer\n",
    "scorer = rouge_scorer.RougeScorer(['rouge1', 'rougeL'], use_stemmer=True, tokenizer=tokenizer)"
   ]
  },
  {
   "cell_type": "code",
   "execution_count": 75,
   "id": "b5961752",
   "metadata": {},
   "outputs": [],
   "source": [
    "model = AutoModelForSeq2SeqLM.from_pretrained(model_name).to(device)"
   ]
  },
  {
   "cell_type": "code",
   "execution_count": 5,
   "id": "3ed3ae33",
   "metadata": {},
   "outputs": [],
   "source": [
    "tokenizer = AutoTokenizer.from_pretrained(model_name)"
   ]
  },
  {
   "cell_type": "code",
   "execution_count": 6,
   "id": "64357fd8",
   "metadata": {},
   "outputs": [],
   "source": [
    "text = \"The dominant sequence transduction models are based on complex recurrent or convolutional neural networks in an encoder-decoder configuration. The best performing models also connect the encoder and decoder through an attention mechanism. We propose a new simple network architecture, the Transformer, based solely on attention mechanisms, dispensing with recurrence and convolutions entirely. Experiments on two machine translation tasks show these models to be superior in quality while being more parallelizable and requiring significantly less time to train. Our model achieves 28.4 BLEU on the WMT 2014 English-to-German translation task, improving over the existing best results, including ensembles by over 2 BLEU. On the WMT 2014 English-to-French translation task, our model establishes a new single-model state-of-the-art BLEU score of 41.8 after training for 3.5 days on eight GPUs, a small fraction of the training costs of the best models from the literature. We show that the Transformer generalizes well to other tasks by applying it successfully to English constituency parsing both with large and limited training data.\""
   ]
  },
  {
   "cell_type": "code",
   "execution_count": 91,
   "id": "4eba5339",
   "metadata": {},
   "outputs": [],
   "source": [
    "single_inputs = tokenizer.encode(text, return_tensors=\"pt\").to(device)"
   ]
  },
  {
   "cell_type": "code",
   "execution_count": 92,
   "id": "cde1b46f",
   "metadata": {},
   "outputs": [],
   "source": [
    "greedy_output = model.generate(single_inputs, max_length=32, num_beams=5)"
   ]
  },
  {
   "cell_type": "code",
   "execution_count": 93,
   "id": "58134f9f",
   "metadata": {},
   "outputs": [
    {
     "data": {
      "text/plain": [
       "['transformer : distilling convolutions with recurrence for neural machine translation']"
      ]
     },
     "execution_count": 93,
     "metadata": {},
     "output_type": "execute_result"
    }
   ],
   "source": [
    "tokenizer.batch_decode(greedy_output, skip_special_tokens=True)"
   ]
  },
  {
   "cell_type": "code",
   "execution_count": 94,
   "id": "e708104b",
   "metadata": {},
   "outputs": [],
   "source": [
    "scores = scorer.score('The quick brown fox jumps over the lazy dog','The quick brown dog jumps on the log.')"
   ]
  },
  {
   "cell_type": "markdown",
   "id": "499846c4",
   "metadata": {},
   "source": [
    "## Batch update"
   ]
  },
  {
   "cell_type": "code",
   "execution_count": 69,
   "id": "bfd9743e",
   "metadata": {},
   "outputs": [],
   "source": [
    "device = 'cuda' if torch.cuda.is_available() else 'cpu'"
   ]
  },
  {
   "cell_type": "code",
   "execution_count": 43,
   "id": "ba6416d7",
   "metadata": {},
   "outputs": [],
   "source": [
    "df = pd.read_csv('ML-Arxiv-Papers.csv')"
   ]
  },
  {
   "cell_type": "code",
   "execution_count": 52,
   "id": "173632c8",
   "metadata": {},
   "outputs": [],
   "source": [
    "title = []\n",
    "abstract = []\n",
    "len_title = []\n",
    "len_abstract = []"
   ]
  },
  {
   "cell_type": "code",
   "execution_count": 53,
   "id": "83170ceb",
   "metadata": {},
   "outputs": [
    {
     "name": "stderr",
     "output_type": "stream",
     "text": [
      "117592it [00:02, 41924.38it/s]\n"
     ]
    }
   ],
   "source": [
    "for index, row in tqdm(df.iterrows()):\n",
    "    t = row['title']\n",
    "    a = row['abstract']\n",
    "    title.append(t)\n",
    "    abstract.append(a)\n"
   ]
  },
  {
   "cell_type": "code",
   "execution_count": 77,
   "id": "7279a0d1",
   "metadata": {},
   "outputs": [],
   "source": [
    "inputs = tokenizer.batch_encode_plus(abstract[:10], return_tensors=\"pt\", truncation=True, padding=True).to(device)"
   ]
  },
  {
   "cell_type": "code",
   "execution_count": 78,
   "id": "481c6cf4",
   "metadata": {},
   "outputs": [],
   "source": [
    "with torch.no_grad():\n",
    "    generated_ids = model.generate(**inputs,max_length=12, num_beams=5)\n",
    "generated_texts = tokenizer.batch_decode(generated_ids, skip_special_tokens=True)"
   ]
  },
  {
   "cell_type": "code",
   "execution_count": 79,
   "id": "a161294d",
   "metadata": {},
   "outputs": [
    {
     "data": {
      "text/plain": [
       "['learning from partial observations : an information - theoretic',\n",
       " 'topology design for optimal consensus in sensor networks',\n",
       " 'shortest path with monitoring under partial monitoring',\n",
       " 'a neural network approach to ordinal regression',\n",
       " 'parametric machine learning and monte carlo optimization : from monte',\n",
       " 'how many nodes are needed to make a difference?',\n",
       " 'inapproximability of correlation clustering',\n",
       " 'joint universal learning for variable - rate lossy coding of',\n",
       " 'feature selection for classification and regression using the hilbert - schmidt',\n",
       " 'maximum weight matching using max - product belief propagation']"
      ]
     },
     "execution_count": 79,
     "metadata": {},
     "output_type": "execute_result"
    }
   ],
   "source": [
    "generated_texts"
   ]
  },
  {
   "cell_type": "code",
   "execution_count": 81,
   "id": "fd635d19",
   "metadata": {},
   "outputs": [
    {
     "data": {
      "text/plain": [
       "['Learning from compressed observations',\n",
       " 'Sensor Networks with Random Links: Topology Design for Distributed\\n  Consensus',\n",
       " 'The on-line shortest path problem under partial monitoring',\n",
       " 'A neural network approach to ordinal regression',\n",
       " 'Parametric Learning and Monte Carlo Optimization',\n",
       " 'Preconditioned Temporal Difference Learning',\n",
       " 'A Note on the Inapproximability of Correlation Clustering',\n",
       " 'Joint universal lossy coding and identification of stationary mixing\\n  sources',\n",
       " 'Supervised Feature Selection via Dependence Estimation',\n",
       " 'Equivalence of LP Relaxation and Max-Product for Weighted Matching in\\n  General Graphs']"
      ]
     },
     "execution_count": 81,
     "metadata": {},
     "output_type": "execute_result"
    }
   ],
   "source": [
    "title[:10]"
   ]
  },
  {
   "cell_type": "code",
   "execution_count": 87,
   "id": "81c904af",
   "metadata": {},
   "outputs": [],
   "source": [
    "scores = []\n",
    "for i in range(len(generated_texts)):\n",
    "    scores.append(scorer.score(generated_texts[i],title[i]))\n",
    "    "
   ]
  },
  {
   "cell_type": "code",
   "execution_count": 88,
   "id": "de95830f",
   "metadata": {},
   "outputs": [
    {
     "name": "stdout",
     "output_type": "stream",
     "text": [
      "{'rouge1': Score(precision=0.75, recall=0.2727272727272727, fmeasure=0.39999999999999997), 'rougeL': Score(precision=0.75, recall=0.2727272727272727, fmeasure=0.39999999999999997)}\n",
      "{'rouge1': Score(precision=0.5454545454545454, recall=0.75, fmeasure=0.631578947368421), 'rougeL': Score(precision=0.36363636363636365, recall=0.5, fmeasure=0.4210526315789474)}\n",
      "{'rouge1': Score(precision=0.5, recall=0.7142857142857143, fmeasure=0.588235294117647), 'rougeL': Score(precision=0.5, recall=0.7142857142857143, fmeasure=0.588235294117647)}\n",
      "{'rouge1': Score(precision=1.0, recall=1.0, fmeasure=1.0), 'rougeL': Score(precision=1.0, recall=1.0, fmeasure=1.0)}\n",
      "{'rouge1': Score(precision=1.0, recall=0.6363636363636364, fmeasure=0.7777777777777778), 'rougeL': Score(precision=1.0, recall=0.6363636363636364, fmeasure=0.7777777777777778)}\n",
      "{'rouge1': Score(precision=0.14285714285714285, recall=0.1, fmeasure=0.11764705882352941), 'rougeL': Score(precision=0.14285714285714285, recall=0.1, fmeasure=0.11764705882352941)}\n",
      "{'rouge1': Score(precision=0.7142857142857143, recall=1.0, fmeasure=0.8333333333333333), 'rougeL': Score(precision=0.7142857142857143, recall=1.0, fmeasure=0.8333333333333333)}\n",
      "{'rouge1': Score(precision=0.5454545454545454, recall=0.5454545454545454, fmeasure=0.5454545454545454), 'rougeL': Score(precision=0.5454545454545454, recall=0.5454545454545454, fmeasure=0.5454545454545454)}\n",
      "{'rouge1': Score(precision=0.3333333333333333, recall=0.18181818181818182, fmeasure=0.23529411764705885), 'rougeL': Score(precision=0.3333333333333333, recall=0.18181818181818182, fmeasure=0.23529411764705885)}\n",
      "{'rouge1': Score(precision=0.2857142857142857, recall=0.4444444444444444, fmeasure=0.34782608695652173), 'rougeL': Score(precision=0.21428571428571427, recall=0.3333333333333333, fmeasure=0.2608695652173913)}\n"
     ]
    }
   ],
   "source": [
    "for i in range(len(generated_texts)):\n",
    "    print(scores[i])"
   ]
  }
 ],
 "metadata": {
  "kernelspec": {
   "display_name": "Python 3 (ipykernel)",
   "language": "python",
   "name": "python3"
  },
  "language_info": {
   "codemirror_mode": {
    "name": "ipython",
    "version": 3
   },
   "file_extension": ".py",
   "mimetype": "text/x-python",
   "name": "python",
   "nbconvert_exporter": "python",
   "pygments_lexer": "ipython3",
   "version": "3.8.10"
  }
 },
 "nbformat": 4,
 "nbformat_minor": 5
}
